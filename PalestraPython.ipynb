{
  "cells": [
    {
      "metadata": {
        "trusted": true
      },
      "cell_type": "code",
      "source": "import sys\nimport time\n\nimport numpy as np\nfrom osgeo import gdal, osr, ogr",
      "execution_count": 1,
      "outputs": []
    },
    {
      "metadata": {},
      "cell_type": "markdown",
      "source": "<h1>1 - Compara&ccedil;&atilde;o 1: Recurs&atilde;o em cauda e recurs&atilde;o simples</h1>\n<h3>1.1 - Recurs&atilde;o simples:</h3>\n<p>Uma recursão simples, primeiramente empilha na memória todas as repetições que deverão ser executadas, então vai desempilhando conforme as mesmas são executadas. Este processo de empilhar e desempilhar na memória torna o processo da recursão simples lento se comparado com um loop <i>for</i></p>\n\n\n"
    },
    {
      "metadata": {
        "trusted": true
      },
      "cell_type": "code",
      "source": "def fatorial_simples(num):\n    if num <= 1:\n        return 1\n    else:\n        fat = fatorial_simples(num - 1)\n        return fat * num    ",
      "execution_count": 2,
      "outputs": []
    },
    {
      "metadata": {},
      "cell_type": "markdown",
      "source": "<h3>1.2 - Recurs&atilde;o em cauda:</h3>\n<p>Uma recurs&atilde;o em cauda ao contr&aacute;rio da recurs&atilde;o simples, executa as repeti&ccedil;&otilde;es enquanto empilha elas, tornando o processo mais r&aacute;pido.</p>"
    },
    {
      "metadata": {
        "trusted": true
      },
      "cell_type": "code",
      "source": "def fatorial_cauda(num):\n    if num <= 1:\n        return 1\n    else:\n        return num * fatorial_cauda(num - 1)\n",
      "execution_count": 3,
      "outputs": []
    },
    {
      "metadata": {},
      "cell_type": "markdown",
      "source": "<h3>1.3 - Vamos compara-las:</h3>"
    },
    {
      "metadata": {
        "scrolled": false,
        "trusted": true
      },
      "cell_type": "code",
      "source": "# Aumenta o limite de chamadas recursivas para 10000\n# a quantidade padrao de chamadas é 3000\nsys.setrecursionlimit(5000)\n\n# Mostra a quantidade de chamas recursivas que o sistema pode fazer\nprint(\"A quantidade de chamadas recursivas que podem ser feitas e {}\".format(sys.getrecursionlimit()))\n\nsomatorio = 0\n\nfor i in range(1000):\n    ini = int(round(time.time() * 1000000))\n    fatSimples = fatorial_simples(4000)\n    fim = int(round(time.time() * 1000000))\n    somatorio += (fim - ini)\n\nprint(\"Tempo de execucao fatorial simples \"+\n      \"{} microssegundos\".format(somatorio/1000))\n\nsomatorio = 0\n\nfor i in range(1000):\n    ini = int(round(time.time() * 1000000))\n    fatCauda = fatorial_cauda(4000)\n    fim = int(round(time.time() * 1000000))\n    somatorio += (fim - ini)\n\nprint(\"Tempo de execucao fatorial cauda \"+\n      \"{} microssegundos\".format(somatorio/1000))\n",
      "execution_count": 4,
      "outputs": [
        {
          "output_type": "stream",
          "text": "A quantidade de chamadas recursivas que podem ser feitas e 5000\nTempo de execucao fatorial simples 7722.787 microssegundos\nTempo de execucao fatorial cauda 6704.581 microssegundos\n",
          "name": "stdout"
        }
      ]
    },
    {
      "metadata": {},
      "cell_type": "markdown",
      "source": "<h3>1.4 Conclusão:</h3>\n<p>Nesta comparação de código, é possível perceber que a recursão em cauda tende a ser mais rápida. Contudo, como o Python não implementa a recursão em cauda (<i>tail recursion</i>), as duas funções estão sendo processadas praticamente da mesma forma. O que pode estar tornando a recursão em cauda mais rápida pode ser a quantidade das linhas da função, visto que a função possui menos linhas comparado com a recursão simples.<br/>\nA principal desvantagem de se utilizar recursão em Python é o seu limite pequeno de chamadas. Apesar de poder modificar este limite, não é recomendado, visto que caso seja feito muitas chamadas, a chance de provocarmos um <i>stack overflow</i> (ou <i>estouro de pilha</i>) é bem alta.</p>"
    },
    {
      "metadata": {},
      "cell_type": "markdown",
      "source": "<h1>2 - Compara&ccedil;&atilde;o 2: C&aacute;lculo das coordenadas geogr&aacute;ficas</h1>\n<h3>2.1 - Descri&ccedil;&atilde;o da fun&ccedil;&atilde;o:</h3>\n<p>Uma das operações mais essenciais do programa é o cálculo das coordenadas geográficas de cada pixel da imagem. Isto porque os dados de treinamento utilizados na classificação supervisionada estão sob coordenadas geográficas. O cruzamento das entradas, imagem e os dados de treinamento, resultam no pixel correspondente para cada ponto de treinamento.</p>"
    },
    {
      "metadata": {},
      "cell_type": "markdown",
      "source": "<h3>2.2 - Fun&ccedil;&atilde;o Orientada a Objetos</h3>\n<p>Neste código podemos observar que um simples loop <i>for</i> satisfaz o procedimento, sendo necessário apenas iterar por cada pixel e fazer os cálculos necessários. Adicionando em listas distintas as coordenadas x e y.</p>"
    },
    {
      "metadata": {
        "trusted": true
      },
      "cell_type": "code",
      "source": "def get_pixels_coordinates_oo(raster, epsg=32722):\n        # Pega as referencias espaciasi do raster\n        raster_gtrn = raster.GetGeoTransform()\n        crs = osr.SpatialReference()\n        crs.ImportFromWkt(raster.GetProjectionRef())\n        # Pega o codigo epsg referente a projecao \n        crsGeo = osr.SpatialReference()\n        crsGeo.ImportFromEPSG(epsg)\n        # Cria um \"tradutor\" de coordenadas\n        transform = osr.CoordinateTransformation(crs, crsGeo)\n        # Cria uma lista para as coordenadas x e outra para as y\n        X = []\n        Y = []\n        # Cria um indice para os pixeis da imagem\n        #index = np.ndindex(int(raster.RasterXSize / 2), int(raster.RasterYSize / 2))\n        index = np.ndindex(raster.RasterXSize, raster.RasterYSize)\n        for i in index:\n            # Pega a linha e coluna referente ao pixelda matriz\n            x, y = i\n            # Calcula as coordenadas x e y\n            x2 = raster_gtrn[1] * x + raster_gtrn[2] * y + raster_gtrn[0]\n            y2 = raster_gtrn[4] * x + raster_gtrn[5] * y + raster_gtrn[3]\n            # Calcula as coordenadas do centro do pixel\n            x2 += (raster_gtrn[1]/2.0)\n            y2 += (raster_gtrn[5]/2.0)\n            # Traduz as coordenadas para a projecao do codigo epsg\n            cx, cy = transform.TransformPoint(x2, y2)[:2]\n            # Adiciona os valores nas listas\n            X.append((cx))\n            Y.append((cy))\n        return X,Y",
      "execution_count": 5,
      "outputs": []
    },
    {
      "metadata": {},
      "cell_type": "markdown",
      "source": "<h3>2.3 - Fun&ccedil;&atilde;o que calcula as coordenadas do Python Funcional</h3>\n<p>Para calcular as coordenadas em Python funcional, é utilizado uma fun&ccedil;&atilde;o Decorator e outra fun&ccedil;&atilde;o que chama o decorator. Em seguida veremos cada uma delas separadamente:</p>\n<h3>2.3.1 - Fun&ccedil;&atilde;o Decorator:</h3>\n<p>Nesta fun&ccedil;&atilde;o podemos observar que h&aacute; a implementa&ccedil;&atilde;o do padr&atilde;o de projeto (Designer Pattern) Decorator, onde o mesmo é uma fun&ccedil;&atilde;o que recebe outra fun&ccedil;&atilde;o, decorando-a ou adicionando uma funcionalidade na fun&ccedil;&atilde;o de entrada. Vale lembrar que o uso de Decorators n&atilde;o &eacute; caracter&iacute;stico de linguagens funcionais puras.  </p>"
    },
    {
      "metadata": {
        "trusted": true
      },
      "cell_type": "code",
      "source": "def coordenadas(func, funcX, funcY, funcCenter):\n    def calculo(index):\n        x, y = index\n        #C alcula as coordenadas x e y\n        x2 = funcX(x, y)\n        y2 = funcY(x, y)\n        # Calcula as coordenadas do centro do pixel\n        x2center = funcCenter(x2)\n        y2center = funcCenter(y2)\n        # Traduz as coordenadas para a projecao do codigo epsg \n        cx, cy = func(x2center, y2center)[:2]\n        return cx, cy\n\n    return calculo",
      "execution_count": 6,
      "outputs": []
    },
    {
      "metadata": {},
      "cell_type": "markdown",
      "source": "<h3> 2.3.2 - Função que chama o \"<i>Decorator</i>\" :</h3>\n<p>A função abaixo, é a função que de fato calcula as coordenadas de cada pixel.<br/>\nNesta função são criadas funções anônimas. Estas mesmas funções serão decoradas para assim ser realizado o cálculo das coordenadas para cada pixel.<br/>\n    Nesta função também foi utilizada a função de alta ordem <i>map</i>. Esta função irá iterar pelo conjunto de dados e aplicar a função que foi passada como atributo..</p>"
    },
    {
      "metadata": {
        "trusted": true
      },
      "cell_type": "code",
      "source": "def get_pixels_coordinates_func(raster, epsg=32722):\n    # Pega as referencias espaciasi do raster\n    raster_gtrn = raster.GetGeoTransform()\n    crs = osr.SpatialReference()\n    crs.ImportFromWkt(raster.GetProjectionRef())\n    # Pega o codigo epsg referente a projecao \n    crsGeo = osr.SpatialReference()\n    crsGeo.ImportFromEPSG(epsg)\n    # Cria um \"tradutor\" de coordenadas\n    transform = osr.CoordinateTransformation(crs, crsGeo)\n    # Cria um indice para os pixeis da imagem\n    #index = np.ndindex(int(raster.RasterXSize / 2), int(raster.RasterYSize / 2))\n    index = np.ndindex(raster.RasterXSize, raster.RasterYSize)\n    func1 = coordenadas(lambda x, y: transform.TransformPoint(x, y),\n                            lambda x, y: raster_gtrn[1] * x + raster_gtrn[2] * y + raster_gtrn[0],\n                            lambda x, y: raster_gtrn[4] * x + raster_gtrn[5] * y + raster_gtrn[3],\n                            lambda x: x + (raster_gtrn[1] / 2.0))\n    \n    coor = np.array(list(map(func1, index)))\n    # cria uma lista apenas com as coordenadas x\n    x = coor[:,0]\n    # cria uma lista apenas com as coordenadas y\n    y = coor[:,1]\n    return x,y",
      "execution_count": 7,
      "outputs": []
    },
    {
      "metadata": {
        "scrolled": true,
        "trusted": true
      },
      "cell_type": "code",
      "source": "path = r\"TesteClassificacao.tif\"\nraster = gdal.Open(path)\nini = time.time()\ncoordenadasOO = get_pixels_coordinates_oo(raster)\nfim = time.time()\nprint(\"Tempo de execucao da funcao orientada a objetos {} segundos\".format(fim - ini))\n\nini = time.time()\ncoordenadasFunc = get_pixels_coordinates_func(raster)\nfim = time.time()\nprint(\"Tempo de execucao da funcao funcional {} segundos\".format(fim - ini))",
      "execution_count": 8,
      "outputs": [
        {
          "output_type": "stream",
          "text": "Tempo de execucao da funcao orientada a objetos 18.373998880386353 segundos\nTempo de execucao da funcao funcional 42.81450295448303 segundos\n",
          "name": "stdout"
        }
      ]
    },
    {
      "metadata": {},
      "cell_type": "markdown",
      "source": "<h1>3 - Comparação 3: Função reordenação das classes</h1>\n<p>Esta função substitui os valores atuais das classes por novos valores definidos pelo usuário.</p>\n<h3>3.1 - Função Orientada a objetos</h3>\n<p>A função orientada a objetos usa um <i>loop for</i> para iterar pelos valores das classes.</p>"
    },
    {
      "metadata": {
        "trusted": true
      },
      "cell_type": "code",
      "source": "def replace_array_values_oo(array, actualValues, newValues):\n        index = len(actualValues)\n        for i in range(index):\n            array[array == actualValues[i]] = newValues[i]",
      "execution_count": 9,
      "outputs": []
    },
    {
      "metadata": {},
      "cell_type": "markdown",
      "source": "<h3> 3.2 - Função funcional</h3>\n<p>A função do paradigma funcional utiliza uma recursão em cauda.</p>"
    },
    {
      "metadata": {
        "trusted": true
      },
      "cell_type": "code",
      "source": "def replace_array_values_func(array, actualValues, newValues):\n    index = len(actualValues)\n    if index == 0 :\n         return array\n    else:\n        array[array == actualValues[0]] = newValues[0]\n        return replace_array_values_func(array, actualValues[1:], newValues[1:])\n    pass",
      "execution_count": 10,
      "outputs": []
    },
    {
      "metadata": {
        "trusted": true
      },
      "cell_type": "code",
      "source": "banda = raster.GetRasterBand(1)\nmatriz = banda.ReadAsArray()\n\nvaloresAtuais = [1,2,3,4,5,6,7,8,9]\nvaloresNovos = [0,1,2,3,4,5,6,7,8]\n\nmatrizOO = matriz.copy()\nmatrizFunc = matriz.copy()\n\nini  = time.time()\nreplace_array_values_oo(matrizOO, valoresAtuais, valoresNovos)\nfim = time.time()\n\nprint(\"Tempo de execucao funcao Orientada a Objetos {} segundos\".format(fim - ini))\n\nini = time.time()\narrayNovo = replace_array_values_func(matrizFunc, valoresAtuais ,valoresNovos)\nfim = time.time()\nprint(\"Tempo de execucao funcao Funcional {} segundos\".format(fim - ini))\n\n",
      "execution_count": 11,
      "outputs": [
        {
          "output_type": "stream",
          "text": "Tempo de execucao funcao Orientada a Objetos 0.12028121948242188 segundos\nTempo de execucao funcao Funcional 0.07167482376098633 segundos\n",
          "name": "stdout"
        }
      ]
    },
    {
      "metadata": {},
      "cell_type": "markdown",
      "source": "<h1>4 - Conclusão:</h1>\n<table style=\"font-size: 25px; text-align: center;\">\n  <tr>\n    <th>Características</th>\n    <th>Python funcional</th>\n    <th>Python Orientado a Objetos</th>\n  </tr>\n  <tr>\n    <td>Escalabilidade</td>\n    <td style=\"color:\t#FF0000; font-weight: 700; text-align: center;\">-</td>\n    <td style=\"color: #228B22; font-weight: 700; text-align: center;\">X</td>\n  </tr>\n  <tr>\n    <td>Facilidade em prototipar</td>\n    <td style=\"color: #228B22; font-weight: 700; text-align: center;\">X</td>\n    <td style=\"color:\t#FF0000; font-weight: 700; text-align: center;\">-</td>\n  </tr>\n  <tr>\n    <td>Imutabilidade dos dados</td>\n    <td style=\"color: #228B22; font-weight: 700; text-align: center;\">X</td>\n    <td style=\"color:\t#FF0000; font-weight: 700; text-align: center;\">-</td>\n  </tr>\n</table>\n"
    }
  ],
  "metadata": {
    "kernelspec": {
      "name": "python3",
      "display_name": "Python 3",
      "language": "python"
    },
    "language_info": {
      "mimetype": "text/x-python",
      "nbconvert_exporter": "python",
      "name": "python",
      "pygments_lexer": "ipython3",
      "version": "3.5.4",
      "file_extension": ".py",
      "codemirror_mode": {
        "version": 3,
        "name": "ipython"
      }
    }
  },
  "nbformat": 4,
  "nbformat_minor": 2
}